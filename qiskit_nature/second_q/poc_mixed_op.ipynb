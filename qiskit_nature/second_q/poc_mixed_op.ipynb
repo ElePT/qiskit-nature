{
 "cells": [
  {
   "cell_type": "markdown",
   "metadata": {},
   "source": [
    "# POC for MixedOp\n",
    "### Updated 31/08/22"
   ]
  },
  {
   "cell_type": "code",
   "execution_count": 2,
   "metadata": {
    "pycharm": {
     "name": "#%%\n"
    }
   },
   "outputs": [
    {
     "ename": "ModuleNotFoundError",
     "evalue": "No module named 'qiskit.algorithms'",
     "output_type": "error",
     "traceback": [
      "\u001B[0;31m---------------------------------------------------------------------------\u001B[0m",
      "\u001B[0;31mModuleNotFoundError\u001B[0m                       Traceback (most recent call last)",
      "\u001B[0;32m<ipython-input-2-6df9e30b7863>\u001B[0m in \u001B[0;36m<module>\u001B[0;34m\u001B[0m\n\u001B[0;32m----> 1\u001B[0;31m \u001B[0;32mfrom\u001B[0m \u001B[0mqiskit_nature\u001B[0m\u001B[0;34m.\u001B[0m\u001B[0msecond_q\u001B[0m\u001B[0;34m.\u001B[0m\u001B[0moperators\u001B[0m \u001B[0;32mimport\u001B[0m \u001B[0mFermionicOp\u001B[0m\u001B[0;34m,\u001B[0m \u001B[0mSpinOp\u001B[0m\u001B[0;34m,\u001B[0m \u001B[0mMixedOp\u001B[0m\u001B[0;34m\u001B[0m\u001B[0;34m\u001B[0m\u001B[0m\n\u001B[0m\u001B[1;32m      2\u001B[0m \u001B[0;32mfrom\u001B[0m \u001B[0mqiskit_nature\u001B[0m\u001B[0;34m.\u001B[0m\u001B[0msecond_q\u001B[0m\u001B[0;34m.\u001B[0m\u001B[0mmappers\u001B[0m \u001B[0;32mimport\u001B[0m \u001B[0mJordanWignerMapper\u001B[0m\u001B[0;34m,\u001B[0m \u001B[0mLinearMapper\u001B[0m\u001B[0;34m,\u001B[0m \u001B[0mQubitConverter\u001B[0m\u001B[0;34m\u001B[0m\u001B[0;34m\u001B[0m\u001B[0m\n",
      "\u001B[0;32m~/Desktop/nature-refactor-move-2/qiskit-nature/qiskit_nature/__init__.py\u001B[0m in \u001B[0;36m<module>\u001B[0;34m\u001B[0m\n\u001B[1;32m     51\u001B[0m \"\"\"\n\u001B[1;32m     52\u001B[0m \u001B[0;34m\u001B[0m\u001B[0m\n\u001B[0;32m---> 53\u001B[0;31m from qiskit.algorithms.minimum_eigen_solvers.minimum_eigen_solver import (\n\u001B[0m\u001B[1;32m     54\u001B[0m     \u001B[0mListOrDict\u001B[0m \u001B[0;32mas\u001B[0m \u001B[0mListOrDictType\u001B[0m\u001B[0;34m,\u001B[0m\u001B[0;34m\u001B[0m\u001B[0;34m\u001B[0m\u001B[0m\n\u001B[1;32m     55\u001B[0m )\n",
      "\u001B[0;31mModuleNotFoundError\u001B[0m: No module named 'qiskit.algorithms'"
     ]
    }
   ],
   "source": [
    "from qiskit_nature.second_q.operators import FermionicOp, SpinOp, MixedOp\n",
    "from qiskit_nature.second_q.mappers import JordanWignerMapper, LinearMapper, QubitConverter"
   ]
  },
  {
   "cell_type": "code",
   "execution_count": 22,
   "metadata": {
    "pycharm": {
     "name": "#%%\n"
    }
   },
   "outputs": [
    {
     "name": "stdout",
     "output_type": "stream",
     "text": [
      "Fermionic qubit op 1:  0.5 * X\n",
      "+ -0.5j * Y\n",
      "Fermionic qubit op 2:  0.5 * X\n",
      "+ -0.5j * Y\n",
      "+ 0.25 * I\n",
      "+ 0.25 * Z\n",
      "Spin qubit op:  0.25 * ZI\n",
      "- 0.25 * IZ\n"
     ]
    }
   ],
   "source": [
    "# REFERENCE QUBIT OPERATORS:\n",
    "\n",
    "fer_op_1 = FermionicOp(\"+\")\n",
    "fer_op_2 = FermionicOp(\"+\") + (0.5 * FermionicOp(\"E\"))\n",
    "spin_op_1 = SpinOp(\"Z\")\n",
    "\n",
    "qubit_converter = QubitConverter(mappers=JordanWignerMapper())\n",
    "fermionic_qubit_op = qubit_converter.convert(fer_op_1)\n",
    "print(\"Fermionic qubit op 1: \", fermionic_qubit_op)\n",
    "\n",
    "qubit_converter = QubitConverter(mappers=JordanWignerMapper())\n",
    "fermionic_qubit_op = qubit_converter.convert(fer_op_2)\n",
    "print(\"Fermionic qubit op 2: \", fermionic_qubit_op)\n",
    "\n",
    "qubit_converter = QubitConverter(mappers=LinearMapper())\n",
    "spin_qubit_op = qubit_converter.convert(spin_op_1)\n",
    "print(\"Spin qubit op: \", spin_qubit_op)"
   ]
  },
  {
   "cell_type": "markdown",
   "metadata": {
    "pycharm": {
     "name": "#%% md\n"
    }
   },
   "source": []
  },
  {
   "cell_type": "markdown",
   "metadata": {
    "pycharm": {
     "name": "#%% md\n"
    }
   },
   "source": [
    "## Example 1: Explicit Creation"
   ]
  },
  {
   "cell_type": "code",
   "execution_count": 12,
   "metadata": {
    "pycharm": {
     "name": "#%%\n"
    }
   },
   "outputs": [
    {
     "name": "stdout",
     "output_type": "stream",
     "text": [
      "MixedOp( \n",
      " Operators = ([FermionicOp([('+_0', (1+0j))], register_length=1, display_format='sparse')], [SpinOp('Z_0', spin=1/2, register_length=1)]\n",
      "Mix Coefficients = ([([('FermionicOp', 0), ('SpinOp', 0)], 2)]) \n",
      " * )\n"
     ]
    }
   ],
   "source": [
    "mixed_op = MixedOp(([fer_op_1, spin_op_1], 2))\n",
    "print(mixed_op)"
   ]
  },
  {
   "cell_type": "code",
   "execution_count": 15,
   "metadata": {
    "pycharm": {
     "name": "#%%\n"
    }
   },
   "outputs": [
    {
     "name": "stdout",
     "output_type": "stream",
     "text": [
      "0.25 * XZI\n",
      "- 0.25 * XIZ\n",
      "+ -0.25j * YZI\n",
      "+ 0.25j * YIZ\n"
     ]
    }
   ],
   "source": [
    "qubit_converter = QubitConverter(mappers=[JordanWignerMapper(), LinearMapper()])\n",
    "qubit_op = qubit_converter.convert(mixed_op)\n",
    "print(qubit_op)"
   ]
  },
  {
   "cell_type": "markdown",
   "metadata": {},
   "source": [
    "## Example 2: Explicit Creation"
   ]
  },
  {
   "cell_type": "code",
   "execution_count": 16,
   "metadata": {
    "pycharm": {
     "name": "#%%\n"
    }
   },
   "outputs": [
    {
     "name": "stdout",
     "output_type": "stream",
     "text": [
      "MixedOp( \n",
      " Operators = ([FermionicOp([('+_0', (1+0j)), ('-_0 +_0', (0.5+0j))], register_length=1, display_format='sparse')], [SpinOp('Z_0', spin=1/2, register_length=1)]\n",
      "Mix Coefficients = ([([('FermionicOp', 0), ('SpinOp', 0)], 3)]) \n",
      " * )\n",
      "0.375 * XZI\n",
      "- 0.375 * XIZ\n",
      "+ -0.375j * YZI\n",
      "+ 0.375j * YIZ\n",
      "+ 0.1875 * IZI\n",
      "- 0.1875 * IIZ\n",
      "+ 0.1875 * ZZI\n",
      "- 0.1875 * ZIZ\n"
     ]
    }
   ],
   "source": [
    "mixed_op = MixedOp(([fer_op_2, spin_op_1], 3))\n",
    "print(mixed_op)\n",
    "qubit_converter = QubitConverter(mappers=[JordanWignerMapper(), LinearMapper()])\n",
    "qubit_op = qubit_converter.convert(mixed_op)\n",
    "print(qubit_op)"
   ]
  },
  {
   "cell_type": "markdown",
   "metadata": {},
   "source": [
    "## Example 3: Implicit Creation\n",
    "Overriden @ operator in FermionicOp to return MixedOp"
   ]
  },
  {
   "cell_type": "code",
   "execution_count": 17,
   "metadata": {
    "pycharm": {
     "name": "#%%\n"
    }
   },
   "outputs": [
    {
     "name": "stdout",
     "output_type": "stream",
     "text": [
      "MixedOp( \n",
      " Operators = ([FermionicOp([('+_0', (1+0j))], register_length=1, display_format='sparse')], [SpinOp('Z_0', spin=1/2, register_length=1)]\n",
      "Mix Coefficients = ([([('FermionicOp', 0), ('SpinOp', 0)], 1)]) \n",
      " * )\n",
      "0.125 * XZI\n",
      "- 0.125 * XIZ\n",
      "+ -0.125j * YZI\n",
      "+ 0.125j * YIZ\n"
     ]
    }
   ],
   "source": [
    "mixed_op = fer_op_1 @ spin_op_1\n",
    "print(mixed_op)\n",
    "qubit_converter = QubitConverter(mappers=[JordanWignerMapper(), LinearMapper()])\n",
    "qubit_op = qubit_converter.convert(mixed_op)\n",
    "print(qubit_op)"
   ]
  },
  {
   "cell_type": "markdown",
   "metadata": {},
   "source": [
    "## Example 4: Implicit Creation + scalar multiplication"
   ]
  },
  {
   "cell_type": "code",
   "execution_count": 18,
   "metadata": {
    "pycharm": {
     "name": "#%%\n"
    }
   },
   "outputs": [
    {
     "name": "stdout",
     "output_type": "stream",
     "text": [
      "MixedOp( \n",
      " Operators = ([FermionicOp([('+_0', (1+0j))], register_length=1, display_format='sparse')], [SpinOp('Z_0', spin=1/2, register_length=1)]\n",
      "Mix Coefficients = ([([('FermionicOp', 0), ('SpinOp', 0)], 3)]) \n",
      " * )\n",
      "0.375 * XZI\n",
      "- 0.375 * XIZ\n",
      "+ -0.375j * YZI\n",
      "+ 0.375j * YIZ\n"
     ]
    }
   ],
   "source": [
    "mixed_op = 3 * (fer_op_1 @ spin_op_1)\n",
    "print(mixed_op)\n",
    "qubit_converter = QubitConverter(mappers=[JordanWignerMapper(), LinearMapper()])\n",
    "qubit_op = qubit_converter.convert(mixed_op)\n",
    "print(qubit_op)"
   ]
  },
  {
   "cell_type": "markdown",
   "metadata": {},
   "source": [
    "## Example 5: Addition\n",
    "\n",
    "If a standalone FermionicOp/SpinOp is added, it's stored in the MixedOp and the qubit converter will tensor its qubit operator with as many identities as needed"
   ]
  },
  {
   "cell_type": "code",
   "execution_count": 20,
   "metadata": {
    "pycharm": {
     "name": "#%%\n"
    }
   },
   "outputs": [
    {
     "name": "stdout",
     "output_type": "stream",
     "text": [
      "MixedOp( \n",
      " Operators = ([FermionicOp([('+_0', (1+0j))], register_length=1, display_format='sparse')], [SpinOp('Z_0', spin=1/2, register_length=1)]\n",
      "Mix Coefficients = ([([('FermionicOp', 0), ('SpinOp', 0)], 1)]) \n",
      " * )\n",
      "MixedOp( \n",
      " Operators = ([FermionicOp([('+_0', (1+0j))], register_length=1, display_format='sparse'), FermionicOp([('+_0', (1+0j)), ('-_0 +_0', (0.5+0j))], register_length=1, display_format='sparse')], [SpinOp('Z_0', spin=1/2, register_length=1)]\n",
      "Mix Coefficients = ([([('FermionicOp', 0), ('SpinOp', 0)], 1), ([('FermionicOp', 1)], 1)]) \n",
      " * )\n"
     ]
    }
   ],
   "source": [
    "mixed_op = fer_op_1 @ spin_op_1\n",
    "print(mixed_op)\n",
    "mixed_op_2 = mixed_op + fer_op_2\n",
    "print(mixed_op_2)"
   ]
  },
  {
   "cell_type": "code",
   "execution_count": 21,
   "metadata": {
    "pycharm": {
     "name": "#%%\n"
    }
   },
   "outputs": [
    {
     "name": "stdout",
     "output_type": "stream",
     "text": [
      "0.125 * XZI\n",
      "- 0.125 * XIZ\n",
      "+ -0.125j * YZI\n",
      "+ 0.125j * YIZ\n",
      "+ 0.5 * XII\n",
      "+ -0.5j * YII\n",
      "+ 0.25 * III\n",
      "+ 0.25 * ZII\n"
     ]
    }
   ],
   "source": [
    "qubit_converter = QubitConverter(mappers=[JordanWignerMapper(), LinearMapper()])\n",
    "qubit_op = qubit_converter.convert(mixed_op_2)\n",
    "print(qubit_op)"
   ]
  },
  {
   "cell_type": "markdown",
   "metadata": {},
   "source": []
  }
 ],
 "metadata": {
  "kernelspec": {
   "display_name": "Python 3",
   "language": "python",
   "name": "python3"
  },
  "language_info": {
   "codemirror_mode": {
    "name": "ipython",
    "version": 3
   },
   "file_extension": ".py",
   "mimetype": "text/x-python",
   "name": "python",
   "nbconvert_exporter": "python",
   "pygments_lexer": "ipython3",
   "version": "3.10.2"
  }
 },
 "nbformat": 4,
 "nbformat_minor": 1
}