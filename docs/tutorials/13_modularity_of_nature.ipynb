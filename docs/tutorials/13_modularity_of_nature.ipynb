{
 "cells": [
  {
   "cell_type": "markdown",
   "metadata": {},
   "source": [
    "# A closer look into Qiskit Nature's modularity\n",
    "\n",
    "This tutorial showcases the power and flexibility of the different components that make up Qiskit Nature.\n",
    "Qiskit Nature is designed to enable both end-to-end and modular workflows, where each individual step\n",
    "can be customized to your particular problem setting. This modularity also allows users to leverage the\n",
    "full capabilities of Qiskit.\n",
    "\n",
    "## Using VQE to solve an Electronic Structure Problem\n",
    "\n",
    "### 1. Obtaining an initial Hartree-Fock solution\n",
    "\n",
    "Qiskit Nature can interface with different classical codes which are able to find the HF solutions:\n",
    "\n",
    "- Gaussian\n",
    "- Psi4\n",
    "- PySCF\n",
    "\n",
    "In the following example, we set up a PySCF driver for the hydrogen molecule at equilibrium bond length\n",
    "(0.735 angstrom) in the singlet state and with no charge.\n",
    "\n",
    "Running this driver will yield an `ElectronicStructureProblem`, Qiskit Nature's representation of the\n",
    "electronic structure problem which we are interested in solving. This problem class includes a representation\n",
    "of the `ElectronicEnergy` hamiltonian, which can be extracted using the `hamiltonian` property:\n"
   ]
  },
  {
   "cell_type": "code",
   "execution_count": 1,
   "metadata": {
    "pycharm": {
     "name": "#%%\n"
    }
   },
   "outputs": [
    {
     "name": "stdout",
     "output_type": "stream",
     "text": [
      "<qiskit_nature.second_q.hamiltonians.electronic_energy.ElectronicEnergy object at 0x7f8058055730>\n"
     ]
    }
   ],
   "source": [
    "from qiskit_nature.second_q.drivers import PySCFDriver\n",
    "from qiskit_nature.units import DistanceUnit\n",
    "\n",
    "driver = PySCFDriver(\n",
    "    atom=\"H 0 0 0; H 0 0 0.735\",\n",
    "    basis=\"sto3g\",\n",
    "    charge=0,\n",
    "    spin=0,\n",
    "    unit=DistanceUnit.ANGSTROM,\n",
    ")\n",
    "\n",
    "hamiltonian = driver.run().hamiltonian\n",
    "print(hamiltonian)"
   ]
  },
  {
   "cell_type": "markdown",
   "metadata": {},
   "source": []
  },
  {
   "cell_type": "markdown",
   "metadata": {},
   "source": [
    "## The ElectronicEnergy Hamiltonian\n",
    "\n",
    "This hamiltonian object stores the following information:"
   ]
  },
  {
   "cell_type": "code",
   "execution_count": 2,
   "metadata": {
    "pycharm": {
     "name": "#%%\n"
    }
   },
   "outputs": [
    {
     "name": "stdout",
     "output_type": "stream",
     "text": [
      "Polynomial Tensor\n",
      " \"+-\":\n",
      "[[-1.25633907e+00 -1.37083854e-17]\n",
      " [-3.92720783e-17 -4.71896007e-01]]\n",
      " \"++--\":\n",
      "[[[[6.75710155e-01 8.55877331e-17]\n",
      "   [1.08243975e-16 1.80931200e-01]]\n",
      "\n",
      "  [[6.56516662e-17 1.80931200e-01]\n",
      "   [6.64581730e-01 2.44635896e-16]]]\n",
      "\n",
      "\n",
      " [[[4.88822879e-17 6.64581730e-01]\n",
      "   [1.80931200e-01 1.58172569e-16]]\n",
      "\n",
      "  [[1.80931200e-01 3.47090768e-16]\n",
      "   [3.21674662e-17 6.98573723e-01]]]]\n"
     ]
    }
   ],
   "source": [
    "coefficients = hamiltonian.electronic_integrals\n",
    "print(coefficients.alpha)"
   ]
  },
  {
   "cell_type": "code",
   "execution_count": 3,
   "metadata": {
    "pycharm": {
     "name": "#%%\n"
    }
   },
   "outputs": [
    {
     "name": "stdout",
     "output_type": "stream",
     "text": [
      "0.7199689944489797\n"
     ]
    }
   ],
   "source": [
    "nuclear_repulsion_energy = hamiltonian.nuclear_repulsion_energy\n",
    "print(nuclear_repulsion_energy)"
   ]
  },
  {
   "cell_type": "markdown",
   "metadata": {},
   "source": [
    "This class is also able to generate the second-quantized operator (fermionic operator) from the 1- and 2-body integrals which the classical code has computed for us."
   ]
  },
  {
   "cell_type": "code",
   "execution_count": 4,
   "metadata": {
    "pycharm": {
     "name": "#%%\n"
    }
   },
   "outputs": [
    {
     "name": "stdout",
     "output_type": "stream",
     "text": [
      "Fermionic Operator\n",
      "number spin orbitals=4, number terms=36\n",
      "  -1.25633907300325 * ( +_0 -_0 )\n",
      "+ -0.47189600728114184 * ( +_1 -_1 )\n",
      "+ -1.25633907300325 * ( +_2 -_2 )\n",
      "+ -0.47189600728114184 * ( +_3 -_3 )\n",
      "+ 0.3378550774017583 * ( +_0 +_0 -_0 -_0 )\n",
      "+ 0.09046559989211575 * ( +_0 +_0 -_1 -_1 )\n",
      "+ 0.09046559989211567 * ( +_0 +_1 -_0 -_1 )\n",
      "+ 0.3322908651276485 * ( +_0 +_1 -_1 -_0 )\n",
      "+ 0.3378550774017583 * ( +_0 +_2 -_2 -_0 )\n",
      "+ 0.09046559989211575 * ( +_0 +_2 -_3 -_1 )\n",
      "+ 0.09046559989211567 * ( +_0 +_3 -_2 -_1 )\n",
      "+ 0.3322908651276485 * ( +_0 +_3 -_3 -_0 )\n",
      "+ 0.33229086512764827 * ( +_1 +_0 -_0 -_1 )\n",
      "+ 0.09046559989211575 * ( +_1 +_0 -_1 -_0 )\n",
      "+ 0.09046559989211568 * ( +_1 +_1 -_0 -_0 )\n",
      "+ 0.3492868613660089 * ( +_1 +_1 -_1 -_1 )\n",
      "+ 0.33229086512764827 * ( +_1 +_2 -_2 -_1 )\n",
      "+ 0.09046559989211575 * ( +_1 +_2 -_3 -_0 )\n",
      "+ 0.09046559989211568 * ( +_1 +_3 -_2 -_0 )\n",
      "+ 0.3492868613660089 * ( +_1 +_3 -_3 -_1 )\n",
      "+ 0.3378550774017583 * ( +_2 +_0 -_0 -_2 )\n",
      "+ 0.09046559989211575 * ( +_2 +_0 -_1 -_3 )\n",
      "+ 0.09046559989211567 * ( +_2 +_1 -_0 -_3 )\n",
      "+ 0.3322908651276485 * ( +_2 +_1 -_1 -_2 )\n",
      "+ 0.3378550774017583 * ( +_2 +_2 -_2 -_2 )\n",
      "+ 0.09046559989211575 * ( +_2 +_2 -_3 -_3 )\n",
      "+ 0.09046559989211567 * ( +_2 +_3 -_2 -_3 )\n",
      "+ 0.3322908651276485 * ( +_2 +_3 -_3 -_2 )\n",
      "+ 0.33229086512764827 * ( +_3 +_0 -_0 -_3 )\n",
      "+ 0.09046559989211575 * ( +_3 +_0 -_1 -_2 )\n",
      "+ 0.09046559989211568 * ( +_3 +_1 -_0 -_2 )\n",
      "+ 0.3492868613660089 * ( +_3 +_1 -_1 -_3 )\n",
      "+ 0.33229086512764827 * ( +_3 +_2 -_2 -_3 )\n",
      "+ 0.09046559989211575 * ( +_3 +_2 -_3 -_2 )\n",
      "+ 0.09046559989211568 * ( +_3 +_3 -_2 -_2 )\n",
      "+ 0.3492868613660089 * ( +_3 +_3 -_3 -_3 )\n"
     ]
    }
   ],
   "source": [
    "fermionic_op = hamiltonian.second_q_op()\n",
    "print(fermionic_op)"
   ]
  },
  {
   "cell_type": "markdown",
   "metadata": {},
   "source": [
    "Running the driver is not the only way to build an Electronic Energy hamiltonian, it can also be  defined manually from the raw electronic integrals as numpy arrays, or from instances of the `ElectronicIntegral` class."
   ]
  },
  {
   "cell_type": "code",
   "execution_count": 5,
   "metadata": {},
   "outputs": [
    {
     "name": "stdout",
     "output_type": "stream",
     "text": [
      "Polynomial Tensor\n",
      " \"+-\":\n",
      "[[0. 0.]\n",
      " [0. 0.]]\n",
      " \"++--\":\n",
      "[[[[0. 0.]\n",
      "   [0. 0.]]\n",
      "\n",
      "  [[0. 0.]\n",
      "   [0. 0.]]]\n",
      "\n",
      "\n",
      " [[[0. 0.]\n",
      "   [0. 0.]]\n",
      "\n",
      "  [[0. 0.]\n",
      "   [0. 0.]]]]\n"
     ]
    }
   ],
   "source": [
    "from qiskit_nature.second_q.hamiltonians import ElectronicEnergy\n",
    "import numpy as np\n",
    "\n",
    "other_hamiltonian = ElectronicEnergy.from_raw_integrals(np.zeros((2, 2)), np.zeros((2, 2, 2, 2)))\n",
    "other_hamiltonian.nuclear_repulsion_energy = 1.23\n",
    "print(other_hamiltonian.electronic_integrals.alpha)"
   ]
  },
  {
   "cell_type": "markdown",
   "metadata": {},
   "source": [
    "Additional functionality of this hamiltonian class: computing the coulomb term, exchange term and fock operator for a given reduced density matrix (expressed using the ElectronicIntegrals operator)\n"
   ]
  },
  {
   "cell_type": "code",
   "execution_count": 6,
   "metadata": {
    "pycharm": {
     "name": "#%%\n"
    }
   },
   "outputs": [
    {
     "name": "stdout",
     "output_type": "stream",
     "text": [
      "f Polynomial Tensor\n",
      " \"+-\":\n",
      "array([[-3.44367865e-01,  7.62682226e-17],\n",
      "       [ 1.75483828e-16,  4.51506984e-01]])\n",
      "c Polynomial Tensor\n",
      " \"+-\":\n",
      "array([[1.34029189e+00, 2.66416544e-16],\n",
      "       [4.12742434e-16, 1.36315545e+00]])\n",
      "e Polynomial Tensor\n",
      " \"+-\":\n",
      "array([[4.28320677e-01, 1.76439936e-16],\n",
      "       [1.97986528e-16, 4.39752461e-01]])\n"
     ]
    }
   ],
   "source": [
    "from qiskit_nature.second_q.operators import ElectronicIntegrals, PolynomialTensor\n",
    "\n",
    "density = ElectronicIntegrals(\n",
    "    alpha=PolynomialTensor({\"+-\": 0.5 * np.eye(2)}),\n",
    "    beta=PolynomialTensor({\"+-\": 0.25 * np.eye(2)}),\n",
    ")\n",
    "fock_op = hamiltonian.fock(density)\n",
    "print(\"f\", fock_op.alpha)\n",
    "coulomb = hamiltonian.coulomb(density)\n",
    "print(\"c\", coulomb.alpha)\n",
    "exchange = hamiltonian.exchange(density)\n",
    "print(\"e\", exchange.alpha)"
   ]
  },
  {
   "cell_type": "markdown",
   "metadata": {
    "pycharm": {
     "name": "#%% md\n"
    }
   },
   "source": [
    "## Going from Hamiltonian to Fermionic Operator\n",
    "\n",
    "As introduced above, the Qiskit Nature `Hamiltonian` subclasses have a `.second_q_op()` method that converts them to a corresponding second quantized operator (Fermionic, Bosonic or Spin, depending on the origin hamiltonian type)."
   ]
  },
  {
   "cell_type": "code",
   "execution_count": 7,
   "metadata": {
    "pycharm": {
     "name": "#%%\n"
    }
   },
   "outputs": [
    {
     "name": "stdout",
     "output_type": "stream",
     "text": [
      "Fermionic Operator\n",
      "number spin orbitals=4, number terms=36\n",
      "  -1.25633907300325 * ( +_0 -_0 )\n",
      "+ -0.47189600728114184 * ( +_1 -_1 )\n",
      "+ -1.25633907300325 * ( +_2 -_2 )\n",
      "+ -0.47189600728114184 * ( +_3 -_3 )\n",
      "+ 0.3378550774017583 * ( +_0 +_0 -_0 -_0 )\n",
      "+ 0.09046559989211575 * ( +_0 +_0 -_1 -_1 )\n",
      "+ 0.09046559989211567 * ( +_0 +_1 -_0 -_1 )\n",
      "+ 0.3322908651276485 * ( +_0 +_1 -_1 -_0 )\n",
      "+ 0.3378550774017583 * ( +_0 +_2 -_2 -_0 )\n",
      "+ 0.09046559989211575 * ( +_0 +_2 -_3 -_1 )\n",
      "+ 0.09046559989211567 * ( +_0 +_3 -_2 -_1 )\n",
      "+ 0.3322908651276485 * ( +_0 +_3 -_3 -_0 )\n",
      "+ 0.33229086512764827 * ( +_1 +_0 -_0 -_1 )\n",
      "+ 0.09046559989211575 * ( +_1 +_0 -_1 -_0 )\n",
      "+ 0.09046559989211568 * ( +_1 +_1 -_0 -_0 )\n",
      "+ 0.3492868613660089 * ( +_1 +_1 -_1 -_1 )\n",
      "+ 0.33229086512764827 * ( +_1 +_2 -_2 -_1 )\n",
      "+ 0.09046559989211575 * ( +_1 +_2 -_3 -_0 )\n",
      "+ 0.09046559989211568 * ( +_1 +_3 -_2 -_0 )\n",
      "+ 0.3492868613660089 * ( +_1 +_3 -_3 -_1 )\n",
      "+ 0.3378550774017583 * ( +_2 +_0 -_0 -_2 )\n",
      "+ 0.09046559989211575 * ( +_2 +_0 -_1 -_3 )\n",
      "+ 0.09046559989211567 * ( +_2 +_1 -_0 -_3 )\n",
      "+ 0.3322908651276485 * ( +_2 +_1 -_1 -_2 )\n",
      "+ 0.3378550774017583 * ( +_2 +_2 -_2 -_2 )\n",
      "+ 0.09046559989211575 * ( +_2 +_2 -_3 -_3 )\n",
      "+ 0.09046559989211567 * ( +_2 +_3 -_2 -_3 )\n",
      "+ 0.3322908651276485 * ( +_2 +_3 -_3 -_2 )\n",
      "+ 0.33229086512764827 * ( +_3 +_0 -_0 -_3 )\n",
      "+ 0.09046559989211575 * ( +_3 +_0 -_1 -_2 )\n",
      "+ 0.09046559989211568 * ( +_3 +_1 -_0 -_2 )\n",
      "+ 0.3492868613660089 * ( +_3 +_1 -_1 -_3 )\n",
      "+ 0.33229086512764827 * ( +_3 +_2 -_2 -_3 )\n",
      "+ 0.09046559989211575 * ( +_3 +_2 -_3 -_2 )\n",
      "+ 0.09046559989211568 * ( +_3 +_3 -_2 -_2 )\n",
      "+ 0.3492868613660089 * ( +_3 +_3 -_3 -_3 )\n"
     ]
    }
   ],
   "source": [
    "fermionic_op = hamiltonian.second_q_op()\n",
    "print(fermionic_op)"
   ]
  },
  {
   "cell_type": "markdown",
   "metadata": {
    "pycharm": {
     "name": "#%% md\n"
    }
   },
   "source": [
    "These operators can always be constructed manually from a descriptive string:\n"
   ]
  },
  {
   "cell_type": "code",
   "execution_count": 8,
   "metadata": {
    "pycharm": {
     "name": "#%%\n"
    }
   },
   "outputs": [
    {
     "name": "stdout",
     "output_type": "stream",
     "text": [
      "Fermionic Operator\n",
      "number spin orbitals=1, number terms=1\n",
      "  -1 * ( +_0 -_0 )\n"
     ]
    }
   ],
   "source": [
    "from qiskit_nature.second_q.operators import FermionicOp\n",
    "\n",
    "op1 = FermionicOp({\"+_0 -_0\": -1}, num_spin_orbitals=1)\n",
    "print(op1)"
   ]
  },
  {
   "cell_type": "code",
   "execution_count": 9,
   "metadata": {
    "pycharm": {
     "name": "#%%\n"
    }
   },
   "outputs": [
    {
     "name": "stdout",
     "output_type": "stream",
     "text": [
      "Fermionic Operator\n",
      "number spin orbitals=1, number terms=2\n",
      "  1 * ( +_0 -_0 )\n",
      "+ 2 * ( -_0 +_0 )\n"
     ]
    }
   ],
   "source": [
    "op2 = FermionicOp({\"+_0 -_0\": 1, \"-_0 +_0\": 2})\n",
    "print(op2)"
   ]
  },
  {
   "cell_type": "code",
   "execution_count": 10,
   "metadata": {
    "pycharm": {
     "name": "#%%\n"
    }
   },
   "outputs": [
    {
     "name": "stdout",
     "output_type": "stream",
     "text": [
      "Fermionic Operator\n",
      "number spin orbitals=4, number terms=14\n",
      "  0.18093120148374142 * ( +_0 -_1 +_2 -_3 )\n",
      "+ -0.18093120148374134 * ( +_0 -_1 -_2 +_3 )\n",
      "+ -0.18093120148374134 * ( -_0 +_1 +_2 -_3 )\n",
      "+ 0.18093120148374128 * ( -_0 +_1 -_2 +_3 )\n",
      "+ -0.4718960038869427 * ( +_3 -_3 )\n",
      "+ -1.2563391028292563 * ( +_2 -_2 )\n",
      "+ 0.48365053378098793 * ( +_2 -_2 +_3 -_3 )\n",
      "+ -0.4718960038869427 * ( +_1 -_1 )\n",
      "+ 0.6985737398458793 * ( +_1 -_1 +_3 -_3 )\n",
      "+ 0.6645817352647293 * ( +_1 -_1 +_2 -_2 )\n",
      "+ -1.2563391028292563 * ( +_0 -_0 )\n",
      "+ 0.6645817352647293 * ( +_0 -_0 +_3 -_3 )\n",
      "+ 0.6757101625347564 * ( +_0 -_0 +_2 -_2 )\n",
      "+ 0.48365053378098793 * ( +_0 -_0 +_1 -_1 )\n"
     ]
    }
   ],
   "source": [
    "h2_labels = {\n",
    "    \"+_0 -_1 +_2 -_3\": 0.18093120148374142,\n",
    "    \"+_0 -_1 -_2 +_3\": -0.18093120148374134,\n",
    "    \"-_0 +_1 +_2 -_3\": -0.18093120148374134,\n",
    "    \"-_0 +_1 -_2 +_3\": 0.18093120148374128,\n",
    "    \"+_3 -_3\": -0.4718960038869427,\n",
    "    \"+_2 -_2\": -1.2563391028292563,\n",
    "    \"+_2 -_2 +_3 -_3\": 0.48365053378098793,\n",
    "    \"+_1 -_1\": -0.4718960038869427,\n",
    "    \"+_1 -_1 +_3 -_3\": 0.6985737398458793,\n",
    "    \"+_1 -_1 +_2 -_2\": 0.6645817352647293,\n",
    "    \"+_0 -_0\": -1.2563391028292563,\n",
    "    \"+_0 -_0 +_3 -_3\": 0.6645817352647293,\n",
    "    \"+_0 -_0 +_2 -_2\": 0.6757101625347564,\n",
    "    \"+_0 -_0 +_1 -_1\": 0.48365053378098793,\n",
    "}\n",
    "\n",
    "h2_op = FermionicOp(h2_labels, num_spin_orbitals=4)\n",
    "print(h2_op)"
   ]
  },
  {
   "cell_type": "markdown",
   "metadata": {
    "pycharm": {
     "name": "#%% md\n"
    }
   },
   "source": [
    "Fermionic Operators support algebraic operations such as addition, adjoint, scalar operations...\n"
   ]
  },
  {
   "cell_type": "code",
   "execution_count": 11,
   "metadata": {
    "pycharm": {
     "name": "#%%\n"
    }
   },
   "outputs": [
    {
     "name": "stdout",
     "output_type": "stream",
     "text": [
      "Fermionic Operator\n",
      "number spin orbitals=1, number terms=2\n",
      "  0 * ( +_0 -_0 )\n",
      "+ 2 * ( -_0 +_0 )\n"
     ]
    }
   ],
   "source": [
    "op3 = op1 + op2\n",
    "print(op3)"
   ]
  },
  {
   "cell_type": "code",
   "execution_count": 12,
   "metadata": {
    "pycharm": {
     "name": "#%%\n"
    }
   },
   "outputs": [
    {
     "name": "stdout",
     "output_type": "stream",
     "text": [
      "Fermionic Operator\n",
      "number spin orbitals=1, number terms=2\n",
      "  -0j * ( +_0 -_0 )\n",
      "+ (4-2j) * ( -_0 +_0 )\n"
     ]
    }
   ],
   "source": [
    "op4 = (2 + 1j) * op3\n",
    "\n",
    "print(op4.adjoint())"
   ]
  },
  {
   "cell_type": "markdown",
   "metadata": {
    "pycharm": {
     "name": "#%% md\n"
    }
   },
   "source": [
    "## Mapping the FermionicOp into a Qubit Operator\n",
    "\n",
    "Qiskit Nature offers a series of pre-implemented mappers to convert from \"Nature-native operators\" to \"Qiskit-native operators\".\n",
    "For example, the parity mapper or the Jordan-Wigner mapper."
   ]
  },
  {
   "cell_type": "code",
   "execution_count": 13,
   "metadata": {
    "pycharm": {
     "name": "#%%\n"
    }
   },
   "outputs": [
    {
     "name": "stdout",
     "output_type": "stream",
     "text": [
      "-0.8105479805373275 * IIII\n",
      "+ 0.1721839326191553 * IIIZ\n",
      "- 0.22575349222402408 * IIZZ\n",
      "+ 0.17218393261915538 * IZZI\n",
      "- 0.22575349222402405 * ZZII\n",
      "+ 0.12091263261776633 * IIZI\n",
      "+ 0.16892753870087915 * IZZZ\n",
      "+ 0.045232799946057854 * ZXIX\n",
      "- 0.045232799946057854 * IXZX\n",
      "- 0.045232799946057854 * ZXZX\n",
      "+ 0.045232799946057854 * IXIX\n",
      "+ 0.1661454325638242 * ZZIZ\n",
      "+ 0.1661454325638242 * IZIZ\n",
      "+ 0.17464343068300445 * ZZZZ\n",
      "+ 0.12091263261776633 * ZIZI\n"
     ]
    },
    {
     "name": "stderr",
     "output_type": "stream",
     "text": [
      "/opt/anaconda3/envs/nature/lib/python3.9/site-packages/qiskit_nature/deprecation.py:297: PauliSumOpDeprecationWarning: PauliSumOp is deprecated as of version 0.6.0 and support for them will be removed no sooner than 3 months after the release. Instead, use SparsePauliOp. You can switch to SparsePauliOp immediately, by setting `qiskit_nature.settings.use_pauli_sum_op` to `False`.\n",
      "  return func(*args, **kwargs)\n"
     ]
    }
   ],
   "source": [
    "from qiskit_nature.second_q.mappers import ParityMapper\n",
    "\n",
    "mapper = ParityMapper()\n",
    "qubit_p_op = mapper.map(fermionic_op)\n",
    "print(qubit_p_op)"
   ]
  },
  {
   "cell_type": "code",
   "execution_count": 14,
   "metadata": {
    "pycharm": {
     "name": "#%%\n"
    }
   },
   "outputs": [
    {
     "name": "stdout",
     "output_type": "stream",
     "text": [
      "-0.8105479805373275 * IIII\n",
      "+ 0.1721839326191553 * IIIZ\n",
      "- 0.22575349222402408 * IIZI\n",
      "+ 0.17218393261915538 * IZII\n",
      "- 0.22575349222402405 * ZIII\n",
      "+ 0.12091263261776633 * IIZZ\n",
      "+ 0.16892753870087915 * IZIZ\n",
      "+ 0.045232799946057854 * YYYY\n",
      "+ 0.045232799946057854 * XXYY\n",
      "+ 0.045232799946057854 * YYXX\n",
      "+ 0.045232799946057854 * XXXX\n",
      "+ 0.1661454325638242 * ZIIZ\n",
      "+ 0.1661454325638242 * IZZI\n",
      "+ 0.17464343068300445 * ZIZI\n",
      "+ 0.12091263261776633 * ZZII\n"
     ]
    }
   ],
   "source": [
    "from qiskit_nature.second_q.mappers import JordanWignerMapper\n",
    "\n",
    "mapper = JordanWignerMapper()\n",
    "qubit_jw_op = mapper.map(fermionic_op)\n",
    "print(qubit_jw_op)"
   ]
  },
  {
   "cell_type": "markdown",
   "metadata": {
    "pycharm": {
     "name": "#%% md\n"
    }
   },
   "source": [
    "## Plugging this operator into any generic VQE workflow\n",
    "\n",
    "The qubit operators outputted by the mappers are standard Qiskit operators of type `qiskit.quantum_info.SparsePauliOp`,\n",
    "which allow for a seamless integration into any standard algorithm written using Qiskit, for example, an implementation\n",
    "of VQE using the Qiskit primitives."
   ]
  },
  {
   "cell_type": "code",
   "execution_count": 15,
   "metadata": {
    "pycharm": {
     "name": "#%%\n"
    }
   },
   "outputs": [],
   "source": [
    "# Define ansatz\n",
    "from qiskit.circuit.library import EfficientSU2\n",
    "\n",
    "ansatz = EfficientSU2(qubit_jw_op.num_qubits)\n",
    "num_params = ansatz.num_parameters"
   ]
  },
  {
   "cell_type": "code",
   "execution_count": 16,
   "metadata": {
    "pycharm": {
     "name": "#%%\n"
    }
   },
   "outputs": [],
   "source": [
    "# Define cost function\n",
    "def cost_func(params, ansatz, hamiltonian, estimator):\n",
    "    energy = estimator.run(ansatz, hamiltonian, parameter_values=params).result().values[0]\n",
    "    return energy"
   ]
  },
  {
   "cell_type": "code",
   "execution_count": 17,
   "metadata": {
    "pycharm": {
     "name": "#%%\n"
    }
   },
   "outputs": [],
   "source": [
    "# Define intial point and primitive instance\n",
    "from qiskit.primitives import Estimator\n",
    "\n",
    "x0 = 2 * np.pi * np.random.random(num_params)\n",
    "estimator = Estimator(options={\"shots\": int(1e4)})"
   ]
  },
  {
   "cell_type": "code",
   "execution_count": 18,
   "metadata": {
    "pycharm": {
     "name": "#%%\n"
    }
   },
   "outputs": [
    {
     "name": "stdout",
     "output_type": "stream",
     "text": [
      "Ground state energy:  -1.8040668692818573\n"
     ]
    }
   ],
   "source": [
    "# Minimize cost function using a SciPy optimizer\n",
    "from scipy.optimize import minimize\n",
    "\n",
    "res = minimize(cost_func, x0, args=(ansatz, qubit_jw_op, estimator), method=\"cobyla\")\n",
    "print(\"Ground state energy: \", res.fun)"
   ]
  },
  {
   "cell_type": "markdown",
   "metadata": {
    "pycharm": {
     "name": "#%% md\n"
    }
   },
   "source": [
    "# Full Workflow Summarized in a Single Cell\n"
   ]
  },
  {
   "cell_type": "code",
   "execution_count": 19,
   "metadata": {
    "pycharm": {
     "name": "#%%\n"
    }
   },
   "outputs": [
    {
     "name": "stdout",
     "output_type": "stream",
     "text": [
      "Ground State Energy: -1.8318022304956496\n"
     ]
    }
   ],
   "source": [
    "from qiskit_nature.second_q.drivers import PySCFDriver\n",
    "from qiskit_nature.units import DistanceUnit\n",
    "from qiskit_nature.second_q.mappers import JordanWignerMapper\n",
    "\n",
    "from qiskit.circuit.library import EfficientSU2\n",
    "from qiskit.primitives import Estimator\n",
    "\n",
    "from scipy.optimize import minimize\n",
    "\n",
    "driver = PySCFDriver(\n",
    "    atom=\"H 0 0 0; H 0 0 0.735\",\n",
    "    basis=\"sto3g\",\n",
    "    charge=0,\n",
    "    spin=0,\n",
    "    unit=DistanceUnit.ANGSTROM,\n",
    ")\n",
    "\n",
    "# get molecular hamiltonian from PySCF driver\n",
    "electr_energy_hamiltonian = driver.run().hamiltonian\n",
    "\n",
    "# convert molecular hamiltonian to fermionic operator\n",
    "fermionic_op = electr_energy_hamiltonian.second_q_op()\n",
    "\n",
    "# map fermionic operator into qubit operator\n",
    "# of type qiskit.quantum_info.SparsePauliOp\n",
    "mapper = JordanWignerMapper()\n",
    "qubit_op = mapper.map(fermionic_op)\n",
    "\n",
    "# this operator can now be plugged into any\n",
    "# qiskit workflow, for example....\n",
    "\n",
    "# find ground state energy with VQE\n",
    "# using the Estimator primitive\n",
    "estimator = Estimator(options={\"shots\": int(1e4)})\n",
    "\n",
    "# define ansatz and initial point\n",
    "ansatz = EfficientSU2(qubit_op.num_qubits)\n",
    "num_params = ansatz.num_parameters\n",
    "initial_point = 2 * np.pi * np.random.random(num_params)\n",
    "\n",
    "# define VQE cost function\n",
    "def cost_func(params, ansatz, operator, estimator):\n",
    "    energy = estimator.run(ansatz, operator, parameter_values=params).result().values[0]\n",
    "    return energy\n",
    "\n",
    "\n",
    "# run SciPy minimizer to find ground state\n",
    "result = minimize(cost_func, initial_point, args=(ansatz, qubit_jw_op, estimator), method=\"cobyla\")\n",
    "print(\"Ground State Energy:\", result.fun)\n"
   ]
  }
 ],
 "metadata": {
  "kernelspec": {
   "display_name": "nature",
   "language": "python",
   "name": "nature"
  },
  "language_info": {
   "codemirror_mode": {
    "name": "ipython",
    "version": 3
   },
   "file_extension": ".py",
   "mimetype": "text/x-python",
   "name": "python",
   "nbconvert_exporter": "python",
   "pygments_lexer": "ipython3",
   "version": "3.9.0"
  }
 },
 "nbformat": 4,
 "nbformat_minor": 1
}