{
 "cells": [
  {
   "cell_type": "code",
   "execution_count": 1,
   "metadata": {},
   "outputs": [],
   "source": [
    "import os\n",
    "\n",
    "from fractions import Fraction\n",
    "from itertools import product\n",
    "from qiskit_nature.second_q.properties import LatticeDrawStyle\n",
    "from qiskit_nature.second_q.properties.lattices import Lattice, HyperCubicLattice\n",
    "from qiskit_nature.second_q.hamiltonians.basic_operators import FermionicSpinor\n",
    "from qiskit_nature.second_q.operators import FermionicOp, SpinOp,MixedOp\n",
    "from qiskit_nature.second_q.mappers import QubitConverter, JordanWignerMapper, LogarithmicMapper, FermionicMapper\n",
    "\n",
    "from qiskit_nature.second_q.hamiltonians.wilson_sun_hamiltonian import WilsonModel\n",
    "import matplotlib.pyplot as plt\n",
    "import numpy as np\n",
    "import time\n",
    "\n",
    "from qiskit_nature.second_q.properties.lattices import BoundaryCondition\n",
    "from qiskit.algorithms import NumPyEigensolver\n",
    "from qiskit.opflow import Zero\n",
    "numpy_solver = NumPyEigensolver()\n",
    "import json\n",
    "from qiskit.opflow import PauliSumOp\n",
    "from qiskit.quantum_info import SparsePauliOp\n",
    "# reading the data from the file\n",
    "def read_hamiltonian(name:str):\n",
    "    path_to_file=f'/home/drudis/Documents/StoredOps/{name}.txt'\n",
    "    with open(path_to_file) as f:\n",
    "        data = f.read()\n",
    "        \n",
    "    # reconstructing the data as a dictionary\n",
    "    js = json.loads(data)\n",
    "    os.remove(path_to_file)\n",
    "\n",
    "    all_pauli_ops = None\n",
    "    for el in js['paulis']:\n",
    "        pauOp = SparsePauliOp(el['label'][::-1]\n",
    "        ,el['coeff']['real']+1.0j*el['coeff']['imag'])\n",
    "        if all_pauli_ops is None:\n",
    "            all_pauli_ops=pauOp\n",
    "        else:\n",
    "            all_pauli_ops+=pauOp\n",
    "    return PauliSumOp(all_pauli_ops)"
   ]
  },
  {
   "cell_type": "code",
   "execution_count": 15,
   "metadata": {},
   "outputs": [],
   "source": [
    "lattice_len = 3\n",
    "a=1\n",
    "r=1\n",
    "m =2\n",
    "spin =1\n",
    "t = 1\n",
    "e = 1\n",
    "lam = 40  \n",
    "\n",
    "some_lattice = HyperCubicLattice((lattice_len,),self_loops=False,boundary_condition=BoundaryCondition.OPEN)\n",
    "\n",
    "# some_lattice.draw()\n",
    "\n",
    "\n",
    "sigmax = np.array([[0.+0.j, 1.+0.j],\n",
    "                   [1.+0.j, 0.+0.j]]).T\n",
    "\n",
    "sigmay = np.array([[0.+0.j, 0.-1.j],\n",
    "                   [0.+1.j, 0.+0.j]]).T\n",
    "\n",
    "sigmaz = np.array([[1.+0.j,  0.+0.j],\n",
    "                   [0.+0.j, -1.+0.j]]).T\n",
    "\n",
    "dirac = [ sigmaz,sigmax*1j,sigmay*1j]\n",
    "\n",
    "\n",
    "w_model = WilsonModel(  lattice = some_lattice,\n",
    "                        a=a,\n",
    "                        r=r,\n",
    "                        mass=m,\n",
    "                        q=e,#this is +-e charge or coupling\n",
    "                        representation=dirac,#dirac_basis\n",
    "                        flavours=1,\n",
    "                        spin=spin,\n",
    "                        electric_field=(0,0,0),\n",
    "                        e_value = e,\n",
    "                        lmbda = lam\n",
    ")\n",
    "qubit_converter = QubitConverter(mappers = [JordanWignerMapper(),LogarithmicMapper()])\n",
    "\n",
    "# hopping,mass,link_plaquette,gauge_regulator = w_model.mock_qubit_parts()\n",
    "hamiltonian = qubit_converter.convert(w_model.second_q_ops())\n",
    "hopp = qubit_converter.convert(w_model.hopping_term())\n",
    "mass = qubit_converter.convert(MixedOp(([w_model.mass_term(),w_model._QLM_spin.idnty()],1.0)))\n",
    "link = qubit_converter.convert(MixedOp(([w_model._fermionic_spinor.idnty(),w_model.link_term()],1.0)))\n",
    "np.testing.assert_allclose((hamiltonian - sum([hopp,mass,link])).to_matrix(),0,atol=1e-8)\n",
    "\n",
    "\n",
    "\n",
    "regulator_term = []\n",
    "for element in w_model.gauss_operators():\n",
    "    converted_regulator = qubit_converter.convert(element)\n",
    "    regulator_term.append(converted_regulator@converted_regulator)\n",
    "\n",
    "regulator_term = sum(regulator_term)\n",
    "\n",
    "\n",
    "#Here one needs to add a path to the old code and a version of python that can run it.\n",
    "os.system(f\"~/anaconda3/envs/aqua/bin/python /home/drudis/GH/old_lattice/export_hamiltonians.py {spin} {m} {t} {r} {a} {e} {lam}\")\n",
    "old_hamiltonian = read_hamiltonian(\"hamiltonian\")\n",
    "old_hopp = read_hamiltonian(\"hopp\")\n",
    "old_link = read_hamiltonian(\"link\")\n",
    "old_link = read_hamiltonian(\"mass\")\n",
    "old_regularizer = read_hamiltonian(\"regularizer\")\n",
    "qutip_ground_states = np.load('/home/drudis/Documents/StoredOps/ground_energies.npy')\n",
    "os.remove('/home/drudis/Documents/StoredOps/ground_energies.npy')"
   ]
  },
  {
   "cell_type": "markdown",
   "metadata": {},
   "source": [
    "Here we get the ground state energy for our hamiltonian. It is getting the right result without the gauge constraint, but not otherwise."
   ]
  },
  {
   "cell_type": "code",
   "execution_count": 16,
   "metadata": {},
   "outputs": [
    {
     "name": "stdout",
     "output_type": "stream",
     "text": [
      "[120.+7.38820463e-15j]\n",
      "[-120.01245179+1.92615247e-07j]\n",
      "unregulated new method: [-9.15377651+2.76731143e-17j]\n",
      "[-9.         -2.          0.          0.         -9.15377651]\n"
     ]
    }
   ],
   "source": [
    "print(numpy_solver.compute_eigenvalues(hamiltonian+lam*regulator_term).eigenvalues)\n",
    "print(numpy_solver.compute_eigenvalues(old_hamiltonian).eigenvalues)\n",
    "print(\"unregulated new method:\", numpy_solver.compute_eigenvalues(hamiltonian).eigenvalues)\n",
    "print(qutip_ground_states)"
   ]
  }
 ],
 "metadata": {
  "kernelspec": {
   "display_name": "Python 3.10.4 ('nature')",
   "language": "python",
   "name": "python3"
  },
  "language_info": {
   "codemirror_mode": {
    "name": "ipython",
    "version": 3
   },
   "file_extension": ".py",
   "mimetype": "text/x-python",
   "name": "python",
   "nbconvert_exporter": "python",
   "pygments_lexer": "ipython3",
   "version": "3.10.4"
  },
  "orig_nbformat": 4,
  "vscode": {
   "interpreter": {
    "hash": "e101f25200b8f563b3f2e526c809c98733fbca3a46b093401264b5145bc4029c"
   }
  }
 },
 "nbformat": 4,
 "nbformat_minor": 2
}
