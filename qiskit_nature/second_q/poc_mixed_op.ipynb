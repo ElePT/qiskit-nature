{
 "cells": [
  {
   "cell_type": "markdown",
   "source": [
    "# POC for MixedOp\n",
    "### Updated 31/08/22"
   ],
   "metadata": {
    "collapsed": false
   }
  },
  {
   "cell_type": "code",
   "execution_count": 1,
   "metadata": {
    "pycharm": {
     "name": "#%%\n"
    }
   },
   "outputs": [],
   "source": [
    "from qiskit_nature.second_q.operators import FermionicOp, SpinOp, MixedOp\n",
    "from qiskit_nature.second_q.mappers import JordanWignerMapper, LinearMapper, QubitConverter"
   ]
  },
  {
   "cell_type": "code",
   "execution_count": 22,
   "metadata": {
    "pycharm": {
     "name": "#%%\n"
    }
   },
   "outputs": [
    {
     "name": "stdout",
     "output_type": "stream",
     "text": [
      "Fermionic qubit op 1:  0.5 * X\n",
      "+ -0.5j * Y\n",
      "Fermionic qubit op 2:  0.5 * X\n",
      "+ -0.5j * Y\n",
      "+ 0.25 * I\n",
      "+ 0.25 * Z\n",
      "Spin qubit op:  0.25 * ZI\n",
      "- 0.25 * IZ\n"
     ]
    }
   ],
   "source": [
    "# REFERENCE QUBIT OPERATORS:\n",
    "\n",
    "fer_op_1 = FermionicOp(\"+\")\n",
    "fer_op_2 = FermionicOp(\"+\") + (0.5 * FermionicOp(\"E\"))\n",
    "spin_op_1 = SpinOp(\"Z\")\n",
    "\n",
    "qubit_converter = QubitConverter(mappers=JordanWignerMapper())\n",
    "fermionic_qubit_op = qubit_converter.convert(fer_op_1)\n",
    "print(\"Fermionic qubit op 1: \", fermionic_qubit_op)\n",
    "\n",
    "qubit_converter = QubitConverter(mappers=JordanWignerMapper())\n",
    "fermionic_qubit_op = qubit_converter.convert(fer_op_2)\n",
    "print(\"Fermionic qubit op 2: \", fermionic_qubit_op)\n",
    "\n",
    "qubit_converter = QubitConverter(mappers=LinearMapper())\n",
    "spin_qubit_op = qubit_converter.convert(spin_op_1)\n",
    "print(\"Spin qubit op: \", spin_qubit_op)"
   ]
  },
  {
   "cell_type": "markdown",
   "metadata": {
    "pycharm": {
     "name": "#%% md\n"
    }
   },
   "source": []
  },
  {
   "cell_type": "markdown",
   "source": [
    "## Example 1: Explicit Creation"
   ],
   "metadata": {
    "collapsed": false,
    "pycharm": {
     "name": "#%% md\n"
    }
   }
  },
  {
   "cell_type": "code",
   "execution_count": 12,
   "outputs": [
    {
     "name": "stdout",
     "output_type": "stream",
     "text": [
      "MixedOp( \n",
      " Operators = ([FermionicOp([('+_0', (1+0j))], register_length=1, display_format='sparse')], [SpinOp('Z_0', spin=1/2, register_length=1)]\n",
      "Mix Coefficients = ([([('FermionicOp', 0), ('SpinOp', 0)], 2)]) \n",
      " * )\n"
     ]
    }
   ],
   "source": [
    "mixed_op = MixedOp(([fer_op_1, spin_op_1], 2))\n",
    "print(mixed_op)"
   ],
   "metadata": {
    "collapsed": false,
    "pycharm": {
     "name": "#%%\n"
    }
   }
  },
  {
   "cell_type": "code",
   "execution_count": 15,
   "outputs": [
    {
     "name": "stdout",
     "output_type": "stream",
     "text": [
      "0.25 * XZI\n",
      "- 0.25 * XIZ\n",
      "+ -0.25j * YZI\n",
      "+ 0.25j * YIZ\n"
     ]
    }
   ],
   "source": [
    "qubit_converter = QubitConverter(mappers=[JordanWignerMapper(), LinearMapper()])\n",
    "qubit_op = qubit_converter.convert(mixed_op)\n",
    "print(qubit_op)"
   ],
   "metadata": {
    "collapsed": false,
    "pycharm": {
     "name": "#%%\n"
    }
   }
  },
  {
   "cell_type": "markdown",
   "source": [
    "## Example 2: Explicit Creation"
   ],
   "metadata": {
    "collapsed": false
   }
  },
  {
   "cell_type": "code",
   "execution_count": 16,
   "metadata": {
    "pycharm": {
     "name": "#%%\n"
    }
   },
   "outputs": [
    {
     "name": "stdout",
     "output_type": "stream",
     "text": [
      "MixedOp( \n",
      " Operators = ([FermionicOp([('+_0', (1+0j)), ('-_0 +_0', (0.5+0j))], register_length=1, display_format='sparse')], [SpinOp('Z_0', spin=1/2, register_length=1)]\n",
      "Mix Coefficients = ([([('FermionicOp', 0), ('SpinOp', 0)], 3)]) \n",
      " * )\n",
      "0.375 * XZI\n",
      "- 0.375 * XIZ\n",
      "+ -0.375j * YZI\n",
      "+ 0.375j * YIZ\n",
      "+ 0.1875 * IZI\n",
      "- 0.1875 * IIZ\n",
      "+ 0.1875 * ZZI\n",
      "- 0.1875 * ZIZ\n"
     ]
    }
   ],
   "source": [
    "mixed_op = MixedOp(([fer_op_2, spin_op_1], 3))\n",
    "print(mixed_op)\n",
    "qubit_converter = QubitConverter(mappers=[JordanWignerMapper(), LinearMapper()])\n",
    "qubit_op = qubit_converter.convert(mixed_op)\n",
    "print(qubit_op)"
   ]
  },
  {
   "cell_type": "markdown",
   "source": [
    "## Example 3: Implicit Creation\n",
    "Overriden @ operator in FermionicOp to return MixedOp"
   ],
   "metadata": {
    "collapsed": false
   }
  },
  {
   "cell_type": "code",
   "execution_count": 17,
   "outputs": [
    {
     "name": "stdout",
     "output_type": "stream",
     "text": [
      "MixedOp( \n",
      " Operators = ([FermionicOp([('+_0', (1+0j))], register_length=1, display_format='sparse')], [SpinOp('Z_0', spin=1/2, register_length=1)]\n",
      "Mix Coefficients = ([([('FermionicOp', 0), ('SpinOp', 0)], 1)]) \n",
      " * )\n",
      "0.125 * XZI\n",
      "- 0.125 * XIZ\n",
      "+ -0.125j * YZI\n",
      "+ 0.125j * YIZ\n"
     ]
    }
   ],
   "source": [
    "mixed_op = fer_op_1 @ spin_op_1\n",
    "print(mixed_op)\n",
    "qubit_converter = QubitConverter(mappers=[JordanWignerMapper(), LinearMapper()])\n",
    "qubit_op = qubit_converter.convert(mixed_op)\n",
    "print(qubit_op)"
   ],
   "metadata": {
    "collapsed": false,
    "pycharm": {
     "name": "#%%\n"
    }
   }
  },
  {
   "cell_type": "markdown",
   "source": [
    "## Example 4: Implicit Creation + scalar multiplication"
   ],
   "metadata": {
    "collapsed": false
   }
  },
  {
   "cell_type": "code",
   "execution_count": 18,
   "outputs": [
    {
     "name": "stdout",
     "output_type": "stream",
     "text": [
      "MixedOp( \n",
      " Operators = ([FermionicOp([('+_0', (1+0j))], register_length=1, display_format='sparse')], [SpinOp('Z_0', spin=1/2, register_length=1)]\n",
      "Mix Coefficients = ([([('FermionicOp', 0), ('SpinOp', 0)], 3)]) \n",
      " * )\n",
      "0.375 * XZI\n",
      "- 0.375 * XIZ\n",
      "+ -0.375j * YZI\n",
      "+ 0.375j * YIZ\n"
     ]
    }
   ],
   "source": [
    "mixed_op = 3 * (fer_op_1 @ spin_op_1)\n",
    "print(mixed_op)\n",
    "qubit_converter = QubitConverter(mappers=[JordanWignerMapper(), LinearMapper()])\n",
    "qubit_op = qubit_converter.convert(mixed_op)\n",
    "print(qubit_op)"
   ],
   "metadata": {
    "collapsed": false,
    "pycharm": {
     "name": "#%%\n"
    }
   }
  },
  {
   "cell_type": "markdown",
   "metadata": {},
   "source": [
    "## Example 5: Addition\n",
    "\n",
    "If a standalone FermionicOp/SpinOp is added, it's stored in the MixedOp and the qubit converter will tensor its qubit operator with as many identities as needed"
   ]
  },
  {
   "cell_type": "code",
   "execution_count": 20,
   "outputs": [
    {
     "name": "stdout",
     "output_type": "stream",
     "text": [
      "MixedOp( \n",
      " Operators = ([FermionicOp([('+_0', (1+0j))], register_length=1, display_format='sparse')], [SpinOp('Z_0', spin=1/2, register_length=1)]\n",
      "Mix Coefficients = ([([('FermionicOp', 0), ('SpinOp', 0)], 1)]) \n",
      " * )\n",
      "MixedOp( \n",
      " Operators = ([FermionicOp([('+_0', (1+0j))], register_length=1, display_format='sparse'), FermionicOp([('+_0', (1+0j)), ('-_0 +_0', (0.5+0j))], register_length=1, display_format='sparse')], [SpinOp('Z_0', spin=1/2, register_length=1)]\n",
      "Mix Coefficients = ([([('FermionicOp', 0), ('SpinOp', 0)], 1), ([('FermionicOp', 1)], 1)]) \n",
      " * )\n"
     ]
    }
   ],
   "source": [
    "mixed_op = fer_op_1 @ spin_op_1\n",
    "print(mixed_op)\n",
    "mixed_op_2 = mixed_op + fer_op_2\n",
    "print(mixed_op_2)"
   ],
   "metadata": {
    "collapsed": false,
    "pycharm": {
     "name": "#%%\n"
    }
   }
  },
  {
   "cell_type": "code",
   "execution_count": 21,
   "outputs": [
    {
     "name": "stdout",
     "output_type": "stream",
     "text": [
      "0.125 * XZI\n",
      "- 0.125 * XIZ\n",
      "+ -0.125j * YZI\n",
      "+ 0.125j * YIZ\n",
      "+ 0.5 * XII\n",
      "+ -0.5j * YII\n",
      "+ 0.25 * III\n",
      "+ 0.25 * ZII\n"
     ]
    }
   ],
   "source": [
    "qubit_converter = QubitConverter(mappers=[JordanWignerMapper(), LinearMapper()])\n",
    "qubit_op = qubit_converter.convert(mixed_op_2)\n",
    "print(qubit_op)"
   ],
   "metadata": {
    "collapsed": false,
    "pycharm": {
     "name": "#%%\n"
    }
   }
  },
  {
   "cell_type": "markdown",
   "source": [],
   "metadata": {
    "collapsed": false
   }
  }
 ],
 "metadata": {
  "kernelspec": {
   "display_name": "Python 3 (ipykernel)",
   "language": "python",
   "name": "python3"
  },
  "language_info": {
   "codemirror_mode": {
    "name": "ipython",
    "version": 3
   },
   "file_extension": ".py",
   "mimetype": "text/x-python",
   "name": "python",
   "nbconvert_exporter": "python",
   "pygments_lexer": "ipython3",
   "version": "3.9.12"
  }
 },
 "nbformat": 4,
 "nbformat_minor": 1
}