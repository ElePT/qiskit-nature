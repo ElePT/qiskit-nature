{
 "cells": [
  {
   "cell_type": "code",
   "execution_count": 1,
   "metadata": {},
   "outputs": [],
   "source": [
    "from fractions import Fraction\n",
    "from itertools import product\n",
    "from qiskit_nature.second_q.properties import LatticeDrawStyle\n",
    "from qiskit_nature.second_q.properties.lattices import Lattice, HyperCubicLattice\n",
    "from qiskit_nature.second_q.hamiltonians.basic_operators import FermionicSpinor\n",
    "from qiskit_nature.second_q.operators import FermionicOp, SpinOp,MixedOp\n",
    "from qiskit_nature.second_q.mappers import QubitConverter, JordanWignerMapper, LogarithmicMapper, FermionicMapper\n",
    "\n",
    "from qiskit_nature.second_q.hamiltonians.wilson_sun_hamiltonian import WilsonModel\n",
    "import matplotlib.pyplot as plt\n",
    "import numpy as np\n",
    "import time\n",
    "\n",
    "from qiskit_nature.second_q.properties.lattices import BoundaryCondition\n",
    "from qiskit.algorithms import NumPyEigensolver\n",
    "from qiskit.opflow import Zero\n",
    "numpy_solver = NumPyEigensolver()"
   ]
  },
  {
   "cell_type": "code",
   "execution_count": 2,
   "metadata": {},
   "outputs": [],
   "source": [
    "import json\n",
    "from qiskit.opflow import PauliSumOp\n",
    "from qiskit.quantum_info import SparsePauliOp\n",
    "# reading the data from the file\n",
    "def read_hamiltonian(name:str):\n",
    "    with open(f'/home/msd/Documents/{name}.txt') as f:\n",
    "        data = f.read()\n",
    "        \n",
    "    # reconstructing the data as a dictionary\n",
    "    js = json.loads(data)\n",
    "\n",
    "    all_pauli_ops = None\n",
    "    for el in js['paulis']:\n",
    "        pauOp = SparsePauliOp(el['label'][::-1]\n",
    "        ,el['coeff']['real']+1.0j*el['coeff']['imag'])\n",
    "        if all_pauli_ops is None:\n",
    "            all_pauli_ops=pauOp\n",
    "        else:\n",
    "            all_pauli_ops+=pauOp\n",
    "    return PauliSumOp(all_pauli_ops)"
   ]
  },
  {
   "cell_type": "code",
   "execution_count": 3,
   "metadata": {},
   "outputs": [
    {
     "data": {
      "image/png": "[encoded data removed]",
      "text/plain": [
       "<Figure size 432x288 with 1 Axes>"
      ]
     },
     "metadata": {},
     "output_type": "display_data"
    }
   ],
   "source": [
    "some_lattice = HyperCubicLattice((3,),self_loops=False,boundary_condition=BoundaryCondition.OPEN)\n",
    "\n",
    "some_lattice.draw()\n",
    "\n",
    "\n",
    "sigmax = np.array([[0.+0.j, 1.+0.j],\n",
    "                   [1.+0.j, 0.+0.j]])\n",
    "\n",
    "sigmay = np.array([[0.+0.j, 0.-1.j],\n",
    "                   [0.+1.j, 0.+0.j]])\n",
    "\n",
    "sigmaz = np.array([[1.+0.j,  0.+0.j],\n",
    "                   [0.+0.j, -1.+0.j]])\n",
    "\n",
    "dirac = [ sigmaz,sigmax*1j,sigmay*1j]\n",
    "\n",
    "w_model = WilsonModel(  lattice = some_lattice,\n",
    "                        a=1,\n",
    "                        r=1.0,\n",
    "                        mass=1,\n",
    "                        q=1.0,#this is +-e charge or coupling\n",
    "                        representation=dirac,#dirac_basis\n",
    "                        flavours=1,\n",
    "                        spin=1,\n",
    "                        electric_field=(0,0,0),\n",
    "                        e_value = 1,\n",
    "                        lmbda = 0.0\n",
    ")\n",
    "qubit_converter = QubitConverter(mappers = [JordanWignerMapper(),LogarithmicMapper()])\n",
    "\n",
    "# hopping,mass,link_plaquette,gauge_regulator = w_model.mock_qubit_parts()\n",
    "hamiltonian = qubit_converter.convert(w_model.second_q_ops())\n",
    "hopping = qubit_converter.convert(w_model.hopping_term())\n",
    "mass = qubit_converter.convert(MixedOp(([w_model.mass_term(),w_model._QLM_spin.idnty()],1.0)))\n",
    "link_plaquette = qubit_converter.convert(MixedOp(([w_model._fermionic_spinor.idnty(),w_model.link_term()],1.0)))\n",
    "np.testing.assert_allclose((hamiltonian - sum([hopping,mass,link_plaquette])).to_matrix(),0,atol=1e-8)"
   ]
  },
  {
   "cell_type": "markdown",
   "metadata": {},
   "source": [
    "Here we get the ground state energy for our hamiltonian. It is getting the right result without the gauge constraint, but not otherwise."
   ]
  },
  {
   "cell_type": "code",
   "execution_count": 4,
   "metadata": {},
   "outputs": [
    {
     "name": "stdout",
     "output_type": "stream",
     "text": [
      "[-6.2219334+1.74812356e-16j]\n"
     ]
    }
   ],
   "source": [
    "print(numpy_solver.compute_eigenvalues(hamiltonian).eigenvalues)"
   ]
  },
  {
   "cell_type": "markdown",
   "metadata": {},
   "source": [
    "Now we can test the mass term. As we see here there is an extra phase that I don't know where it's comming from. But other than that it is looking okay."
   ]
  },
  {
   "cell_type": "code",
   "execution_count": 5,
   "metadata": {},
   "outputs": [
    {
     "name": "stdout",
     "output_type": "stream",
     "text": [
      "[-6.+0.j]\n",
      "[0.-6.j]\n",
      "False\n"
     ]
    }
   ],
   "source": [
    "print(numpy_solver.compute_eigenvalues(mass).eigenvalues)\n",
    "old_mass = read_hamiltonian('Qdiagonal_term')\n",
    "print(numpy_solver.compute_eigenvalues(old_mass).eigenvalues)\n",
    "print(old_mass.is_hermitian())\n",
    "#check hermitian\n",
    "assert (mass - 1.0j * old_mass).is_zero(), 'Not the same hamiltonian'\n",
    "#The mass term has an extra phase that I don't know where is coming from."
   ]
  },
  {
   "cell_type": "code",
   "execution_count": 6,
   "metadata": {},
   "outputs": [
    {
     "name": "stdout",
     "output_type": "stream",
     "text": [
      "[-2.+1.32045993e-16j]\n",
      "[-2.]\n",
      "#######################\n",
      "0.08838834764831843 * IIIXZYIIII\n",
      "- 0.08838834764831843 * IIIXZYIIIZ\n",
      "- 0.08838834764831843 * IIIXZYIIZI\n",
      "+ 0.08838834764831843 * IIIXZYIIZZ\n",
      "+ 0.06250000000000001 * IIIXZYIIIY\n",
      "+ 0.06250000000000001 * IIIXZYIIZY\n",
      "+ 0.08838834764831843 * IIIYZYIIII\n",
      "+ 0.06250000000000001 * IIIYZYIIIX\n",
      "- 0.08838834764831843 * IIIYZYIIIZ\n",
      "+ 0.125 * IIIYZYIIXX\n",
      "+ (0.125-3.678582752216473e-16j) * IIIYZYIIYY\n",
      "- 0.08838834764831843 * IIIYZYIIZI\n",
      "+ 0.06250000000000001 * IIIYZYIIZX\n",
      "+ 0.08838834764831843 * IIIYZYIIZZ\n",
      "+ 0.08838834764831843 * IIIXZXIIII\n",
      "+ 0.06250000000000001 * IIIXZXIIIX\n",
      "- 0.08838834764831843 * IIIXZXIIIZ\n",
      "+ 0.125 * IIIXZXIIXX\n",
      "+ 0.125 * IIIXZXIIYY\n",
      "- 0.08838834764831843 * IIIXZXIIZI\n",
      "+ 0.06250000000000001 * IIIXZXIIZX\n",
      "+ 0.08838834764831843 * IIIXZXIIZZ\n",
      "- 0.08838834764831843 * IIIYZXIIII\n",
      "+ 0.08838834764831843 * IIIYZXIIIZ\n",
      "+ 0.08838834764831843 * IIIYZXIIZI\n",
      "- 0.08838834764831843 * IIIYZXIIZZ\n",
      "- 0.06250000000000001 * IIIYZXIIIY\n",
      "- 0.06250000000000001 * IIIYZXIIZY\n",
      "- 0.06250000000000001 * IIXZZYIIIY\n",
      "+ 0.125 * IIXZZYIIXY\n",
      "- 0.125 * IIXZZYIIYX\n",
      "- 0.06250000000000001 * IIXZZYIIZY\n",
      "- 0.06250000000000001 * IIYZZYIIIX\n",
      "- 0.06250000000000001 * IIYZZYIIZX\n",
      "- 0.06250000000000001 * IIXZZXIIIX\n",
      "- 0.06250000000000001 * IIXZZXIIZX\n",
      "+ 0.06250000000000001 * IIYZZXIIIY\n",
      "- 0.125 * IIYZZXIIXY\n",
      "+ 0.125 * IIYZZXIIYX\n",
      "+ 0.06250000000000001 * IIYZZXIIZY\n",
      "+ 0.06250000000000001 * IIIXYIIIIY\n",
      "- 0.125 * IIIXYIIIXY\n",
      "+ 0.125 * IIIXYIIIYX\n",
      "+ 0.06250000000000001 * IIIXYIIIZY\n",
      "+ 0.06250000000000001 * IIIYYIIIIX\n",
      "+ 0.06250000000000001 * IIIYYIIIZX\n",
      "+ 0.06250000000000001 * IIIXXIIIIX\n",
      "+ 0.06250000000000001 * IIIXXIIIZX\n",
      "- 0.06250000000000001 * IIIYXIIIIY\n",
      "+ 0.125 * IIIYXIIIXY\n",
      "- 0.125 * IIIYXIIIYX\n",
      "- 0.06250000000000001 * IIIYXIIIZY\n",
      "- 0.08838834764831843 * IIXZYIIIII\n",
      "+ 0.08838834764831843 * IIXZYIIIIZ\n",
      "+ 0.08838834764831843 * IIXZYIIIZI\n",
      "- 0.08838834764831843 * IIXZYIIIZZ\n",
      "- 0.06250000000000001 * IIXZYIIIIY\n",
      "- 0.06250000000000001 * IIXZYIIIZY\n",
      "- 0.08838834764831843 * IIYZYIIIII\n",
      "- 0.06250000000000001 * IIYZYIIIIX\n",
      "+ 0.08838834764831843 * IIYZYIIIIZ\n",
      "- 0.125 * IIYZYIIIXX\n",
      "+ (-0.125+3.678582752216473e-16j) * IIYZYIIIYY\n",
      "+ 0.08838834764831843 * IIYZYIIIZI\n",
      "- 0.06250000000000001 * IIYZYIIIZX\n",
      "- 0.08838834764831843 * IIYZYIIIZZ\n",
      "- 0.08838834764831843 * IIXZXIIIII\n",
      "- 0.06250000000000001 * IIXZXIIIIX\n",
      "+ 0.08838834764831843 * IIXZXIIIIZ\n",
      "- 0.125 * IIXZXIIIXX\n",
      "- 0.125 * IIXZXIIIYY\n",
      "+ 0.08838834764831843 * IIXZXIIIZI\n",
      "- 0.06250000000000001 * IIXZXIIIZX\n",
      "- 0.08838834764831843 * IIXZXIIIZZ\n",
      "+ 0.08838834764831843 * IIYZXIIIII\n",
      "- 0.08838834764831843 * IIYZXIIIIZ\n",
      "- 0.08838834764831843 * IIYZXIIIZI\n",
      "+ 0.08838834764831843 * IIYZXIIIZZ\n",
      "+ 0.06250000000000001 * IIYZXIIIIY\n",
      "+ 0.06250000000000001 * IIYZXIIIZY\n",
      "+ 0.08838834764831843 * IXZYIIIIII\n",
      "- 0.08838834764831843 * IXZYIIIZII\n",
      "- 0.08838834764831843 * IXZYIIZIII\n",
      "+ 0.08838834764831843 * IXZYIIZZII\n",
      "+ 0.06250000000000001 * IXZYIIIYII\n",
      "+ 0.06250000000000001 * IXZYIIZYII\n",
      "+ 0.08838834764831843 * IYZYIIIIII\n",
      "+ 0.06250000000000001 * IYZYIIIXII\n",
      "- 0.08838834764831843 * IYZYIIIZII\n",
      "+ 0.125 * IYZYIIXXII\n",
      "+ (0.125-3.678582752216473e-16j) * IYZYIIYYII\n",
      "- 0.08838834764831843 * IYZYIIZIII\n",
      "+ 0.06250000000000001 * IYZYIIZXII\n",
      "+ 0.08838834764831843 * IYZYIIZZII\n",
      "+ 0.08838834764831843 * IXZXIIIIII\n",
      "+ 0.06250000000000001 * IXZXIIIXII\n",
      "- 0.08838834764831843 * IXZXIIIZII\n",
      "+ 0.125 * IXZXIIXXII\n",
      "+ 0.125 * IXZXIIYYII\n",
      "- 0.08838834764831843 * IXZXIIZIII\n",
      "+ 0.06250000000000001 * IXZXIIZXII\n",
      "+ 0.08838834764831843 * IXZXIIZZII\n",
      "- 0.08838834764831843 * IYZXIIIIII\n",
      "+ 0.08838834764831843 * IYZXIIIZII\n",
      "+ 0.08838834764831843 * IYZXIIZIII\n",
      "- 0.08838834764831843 * IYZXIIZZII\n",
      "- 0.06250000000000001 * IYZXIIIYII\n",
      "- 0.06250000000000001 * IYZXIIZYII\n",
      "- 0.06250000000000001 * XZZYIIIYII\n",
      "+ 0.125 * XZZYIIXYII\n",
      "- 0.125 * XZZYIIYXII\n",
      "- 0.06250000000000001 * XZZYIIZYII\n",
      "- 0.06250000000000001 * YZZYIIIXII\n",
      "- 0.06250000000000001 * YZZYIIZXII\n",
      "- 0.06250000000000001 * XZZXIIIXII\n",
      "- 0.06250000000000001 * XZZXIIZXII\n",
      "+ 0.06250000000000001 * YZZXIIIYII\n",
      "- 0.125 * YZZXIIXYII\n",
      "+ 0.125 * YZZXIIYXII\n",
      "+ 0.06250000000000001 * YZZXIIZYII\n",
      "+ 0.06250000000000001 * IXYIIIIYII\n",
      "- 0.125 * IXYIIIXYII\n",
      "+ 0.125 * IXYIIIYXII\n",
      "+ 0.06250000000000001 * IXYIIIZYII\n",
      "+ 0.06250000000000001 * IYYIIIIXII\n",
      "+ 0.06250000000000001 * IYYIIIZXII\n",
      "+ 0.06250000000000001 * IXXIIIIXII\n",
      "+ 0.06250000000000001 * IXXIIIZXII\n",
      "- 0.06250000000000001 * IYXIIIIYII\n",
      "+ 0.125 * IYXIIIXYII\n",
      "- 0.125 * IYXIIIYXII\n",
      "- 0.06250000000000001 * IYXIIIZYII\n",
      "- 0.08838834764831843 * XZYIIIIIII\n",
      "+ 0.08838834764831843 * XZYIIIIZII\n",
      "+ 0.08838834764831843 * XZYIIIZIII\n",
      "- 0.08838834764831843 * XZYIIIZZII\n",
      "- 0.06250000000000001 * XZYIIIIYII\n",
      "- 0.06250000000000001 * XZYIIIZYII\n",
      "- 0.08838834764831843 * YZYIIIIIII\n",
      "- 0.06250000000000001 * YZYIIIIXII\n",
      "+ 0.08838834764831843 * YZYIIIIZII\n",
      "- 0.125 * YZYIIIXXII\n",
      "+ (-0.125+3.678582752216473e-16j) * YZYIIIYYII\n",
      "+ 0.08838834764831843 * YZYIIIZIII\n",
      "- 0.06250000000000001 * YZYIIIZXII\n",
      "- 0.08838834764831843 * YZYIIIZZII\n",
      "- 0.08838834764831843 * XZXIIIIIII\n",
      "- 0.06250000000000001 * XZXIIIIXII\n",
      "+ 0.08838834764831843 * XZXIIIIZII\n",
      "- 0.125 * XZXIIIXXII\n",
      "- 0.125 * XZXIIIYYII\n",
      "+ 0.08838834764831843 * XZXIIIZIII\n",
      "- 0.06250000000000001 * XZXIIIZXII\n",
      "- 0.08838834764831843 * XZXIIIZZII\n",
      "+ 0.08838834764831843 * YZXIIIIIII\n",
      "- 0.08838834764831843 * YZXIIIIZII\n",
      "- 0.08838834764831843 * YZXIIIZIII\n",
      "+ 0.08838834764831843 * YZXIIIZZII\n",
      "+ 0.06250000000000001 * YZXIIIIYII\n",
      "+ 0.06250000000000001 * YZXIIIZYII\n",
      "+ 0.0625 * YZXIIIYIII\n",
      "+ 0.0625 * YZXIIIYZII\n",
      "- 0.0625 * YZYIIIXIII\n",
      "- 0.0625 * YZYIIIXZII\n",
      "- 0.0625 * XZXIIIXIII\n",
      "- 0.0625 * XZXIIIXZII\n",
      "- 0.0625 * XZYIIIYIII\n",
      "- 0.0625 * XZYIIIYZII\n",
      "- 0.0625 * YZZXIIYIII\n",
      "- 0.0625 * YZZXIIYZII\n",
      "+ 0.0625 * YZZYIIXIII\n",
      "+ 0.0625 * YZZYIIXZII\n",
      "+ 0.0625 * XZZXIIXIII\n",
      "+ 0.0625 * XZZXIIXZII\n",
      "+ 0.0625 * XZZYIIYIII\n",
      "+ 0.0625 * XZZYIIYZII\n",
      "+ 0.0625 * IYXIIIYIII\n",
      "+ 0.0625 * IYXIIIYZII\n",
      "- 0.0625 * IYYIIIXIII\n",
      "- 0.0625 * IYYIIIXZII\n",
      "- 0.0625 * IXXIIIXIII\n",
      "- 0.0625 * IXXIIIXZII\n",
      "- 0.0625 * IXYIIIYIII\n",
      "- 0.0625 * IXYIIIYZII\n",
      "- 0.0625 * IYZXIIYIII\n",
      "- 0.0625 * IYZXIIYZII\n",
      "+ 0.0625 * IYZYIIXIII\n",
      "+ 0.0625 * IYZYIIXZII\n",
      "+ 0.0625 * IXZXIIXIII\n",
      "+ 0.0625 * IXZXIIXZII\n",
      "+ 0.0625 * IXZYIIYIII\n",
      "+ 0.0625 * IXZYIIYZII\n",
      "+ 0.0625 * IIYZXIIIYI\n",
      "+ 0.0625 * IIYZXIIIYZ\n",
      "- 0.0625 * IIYZYIIIXI\n",
      "- 0.0625 * IIYZYIIIXZ\n",
      "- 0.0625 * IIXZXIIIXI\n",
      "- 0.0625 * IIXZXIIIXZ\n",
      "- 0.0625 * IIXZYIIIYI\n",
      "- 0.0625 * IIXZYIIIYZ\n",
      "- 0.0625 * IIYZZXIIYI\n",
      "- 0.0625 * IIYZZXIIYZ\n",
      "+ 0.0625 * IIYZZYIIXI\n",
      "+ 0.0625 * IIYZZYIIXZ\n",
      "+ 0.0625 * IIXZZXIIXI\n",
      "+ 0.0625 * IIXZZXIIXZ\n",
      "+ 0.0625 * IIXZZYIIYI\n",
      "+ 0.0625 * IIXZZYIIYZ\n",
      "+ 0.0625 * IIIYXIIIYI\n",
      "+ 0.0625 * IIIYXIIIYZ\n",
      "- 0.0625 * IIIYYIIIXI\n",
      "- 0.0625 * IIIYYIIIXZ\n",
      "- 0.0625 * IIIXXIIIXI\n",
      "- 0.0625 * IIIXXIIIXZ\n",
      "- 0.0625 * IIIXYIIIYI\n",
      "- 0.0625 * IIIXYIIIYZ\n",
      "- 0.0625 * IIIYZXIIYI\n",
      "- 0.0625 * IIIYZXIIYZ\n",
      "+ 0.0625 * IIIYZYIIXI\n",
      "+ 0.0625 * IIIYZYIIXZ\n",
      "+ 0.0625 * IIIXZXIIXI\n",
      "+ 0.0625 * IIIXZXIIXZ\n",
      "+ 0.0625 * IIIXZYIIYI\n",
      "+ 0.0625 * IIIXZYIIYZ\n"
     ]
    }
   ],
   "source": [
    "# print(numpy_solver.compute_eigenvalues(hopping).eigenvalues)\n",
    "old_hopping = read_hamiltonian('Qhopp_term')\n",
    "(old_hopping.to_spmatrix())\n",
    "# print(numpy_solver.compute_eigenvalues(old_hopping).eigenvalues)\n",
    "# print(hopping.reduce())\n",
    "# print(old_hopping.reduce())\n",
    "print('#######################')\n",
    "print((hopping - old_hopping).reduce())"
   ]
  },
  {
   "cell_type": "code",
   "execution_count": 7,
   "metadata": {},
   "outputs": [
    {
     "name": "stdout",
     "output_type": "stream",
     "text": [
      "[0.+0.j]\n",
      "[0.+0.j]\n"
     ]
    }
   ],
   "source": [
    "print(numpy_solver.compute_eigenvalues(link_plaquette).eigenvalues)\n",
    "old_link_plaquette = read_hamiltonian('Qgauge_part')\n",
    "print(numpy_solver.compute_eigenvalues(old_link_plaquette).eigenvalues)\n",
    "assert (link_plaquette-link_plaquette).is_zero(), \"The operators are not the same\""
   ]
  },
  {
   "cell_type": "code",
   "execution_count": 8,
   "metadata": {},
   "outputs": [
    {
     "ename": "NameError",
     "evalue": "name 'gauge_regulator' is not defined",
     "output_type": "error",
     "traceback": [
      "\u001b[0;31m---------------------------------------------------------------------------\u001b[0m",
      "\u001b[0;31mNameError\u001b[0m                                 Traceback (most recent call last)",
      "\u001b[0;32m<ipython-input-8-f371e45c74f5>\u001b[0m in \u001b[0;36m<module>\u001b[0;34m\u001b[0m\n\u001b[0;32m----> 1\u001b[0;31m \u001b[0mprint\u001b[0m\u001b[0;34m(\u001b[0m\u001b[0mnumpy_solver\u001b[0m\u001b[0;34m.\u001b[0m\u001b[0mcompute_eigenvalues\u001b[0m\u001b[0;34m(\u001b[0m\u001b[0mgauge_regulator\u001b[0m\u001b[0;34m)\u001b[0m\u001b[0;34m.\u001b[0m\u001b[0meigenvalues\u001b[0m\u001b[0;34m)\u001b[0m\u001b[0;34m\u001b[0m\u001b[0;34m\u001b[0m\u001b[0m\n\u001b[0m\u001b[1;32m      2\u001b[0m \u001b[0mold_regulator\u001b[0m \u001b[0;34m=\u001b[0m \u001b[0mread_hamiltonian\u001b[0m\u001b[0;34m(\u001b[0m\u001b[0;34m'Qgauge_regularization'\u001b[0m\u001b[0;34m)\u001b[0m\u001b[0;34m\u001b[0m\u001b[0;34m\u001b[0m\u001b[0m\n\u001b[1;32m      3\u001b[0m \u001b[0mprint\u001b[0m\u001b[0;34m(\u001b[0m\u001b[0mnumpy_solver\u001b[0m\u001b[0;34m.\u001b[0m\u001b[0mcompute_eigenvalues\u001b[0m\u001b[0;34m(\u001b[0m\u001b[0mgauge_regulator\u001b[0m\u001b[0;34m)\u001b[0m\u001b[0;34m.\u001b[0m\u001b[0meigenvalues\u001b[0m\u001b[0;34m)\u001b[0m\u001b[0;34m\u001b[0m\u001b[0;34m\u001b[0m\u001b[0m\n\u001b[1;32m      4\u001b[0m \u001b[0mprint\u001b[0m\u001b[0;34m(\u001b[0m\u001b[0mgauge_regulator\u001b[0m \u001b[0;34m-\u001b[0m \u001b[0mold_regulator\u001b[0m\u001b[0;34m)\u001b[0m\u001b[0;34m.\u001b[0m\u001b[0mreduce\u001b[0m\u001b[0;34m(\u001b[0m\u001b[0;34m)\u001b[0m\u001b[0;34m\u001b[0m\u001b[0;34m\u001b[0m\u001b[0m\n",
      "\u001b[0;31mNameError\u001b[0m: name 'gauge_regulator' is not defined"
     ]
    }
   ],
   "source": [
    "print(numpy_solver.compute_eigenvalues(gauge_regulator).eigenvalues)\n",
    "old_regulator = read_hamiltonian('Qgauge_regularization')\n",
    "print(numpy_solver.compute_eigenvalues(gauge_regulator).eigenvalues)\n",
    "print(gauge_regulator - old_regulator).reduce()"
   ]
  },
  {
   "cell_type": "code",
   "execution_count": 12,
   "metadata": {},
   "outputs": [
    {
     "data": {
      "text/plain": [
       "SpinOp([('X_1', (0.7071067811865476+0j)), ('Y_1', 0.7071067811865476j)], spin=1, register_length=2)"
      ]
     },
     "execution_count": 12,
     "metadata": {},
     "output_type": "execute_result"
    }
   ],
   "source": [
    "w_model._QLM_spin.operatorU(1)"
   ]
  },
  {
   "cell_type": "code",
   "execution_count": null,
   "metadata": {},
   "outputs": [],
   "source": []
  },
  {
   "cell_type": "code",
   "execution_count": null,
   "metadata": {},
   "outputs": [],
   "source": []
  },
  {
   "cell_type": "code",
   "execution_count": null,
   "metadata": {},
   "outputs": [],
   "source": []
  },
  {
   "cell_type": "code",
   "execution_count": null,
   "metadata": {},
   "outputs": [],
   "source": []
  }
 ],
 "metadata": {
  "kernelspec": {
   "display_name": "Python 3.10.4 ('nature')",
   "language": "python",
   "name": "python3"
  },
  "language_info": {
   "codemirror_mode": {
    "name": "ipython",
    "version": 3
   },
   "file_extension": ".py",
   "mimetype": "text/x-python",
   "name": "python",
   "nbconvert_exporter": "python",
   "pygments_lexer": "ipython3",
   "version": "3.10.4"
  },
  "orig_nbformat": 4,
  "vscode": {
   "interpreter": {
    "hash": "94561c5514d6ed309ef55bb744ee9b24e97b38d0ec7b9028efe679e2a743ca0e"
   }
  }
 },
 "nbformat": 4,
 "nbformat_minor": 2
}
